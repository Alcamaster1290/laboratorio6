{
 "cells": [
  {
   "cell_type": "markdown",
   "id": "b109c069",
   "metadata": {},
   "source": [
    "# Regresión Lineal"
   ]
  },
  {
   "cell_type": "markdown",
   "id": "eaa899ba",
   "metadata": {},
   "source": [
    "## Consideraciones\n",
    "* Todas las funciones deben basarse en estructuras iterativas. \n",
    "* No es válido usar el módulo `statistics`, `numpy` o algún otro módulo, salvo que sea para validar sus resultados, presentar gráficos o generar entradas.\n",
    "* Todos los datos son números en punto flotante.\n",
    "* En todas sus funciones deberá incluir un comentario indicando cuales serán los parámetros de la función y su tipo de dato. \n",
    "* Todas las funciones en C deberán estar dentro de un archivo con nombre `stats.c`, el cual también deberá incluir los prototipos de las funciones en ASM y SIMD.\n",
    "* Cada función en ASM y SIMD deberá tener su propio archivo.\n",
    "* Todas las gráficas deberán tener etiquetas en los ejes y títulos."
   ]
  },
  {
   "cell_type": "markdown",
   "id": "f9ba6c0f",
   "metadata": {},
   "source": [
    "## Dependencias"
   ]
  },
  {
   "cell_type": "code",
   "execution_count": 1,
   "id": "f2162973",
   "metadata": {},
   "outputs": [],
   "source": [
    "import numpy as np"
   ]
  },
  {
   "cell_type": "code",
   "execution_count": 2,
   "id": "1fa9f1cb",
   "metadata": {},
   "outputs": [],
   "source": [
    "n = 2**10\n",
    "x = np.arange(n, dtype=np.float32)\n",
    "ruido = np.random.rand(n) / (10)\n",
    "y = 2 * x + ruido.astype('float32')"
   ]
  },
  {
   "cell_type": "markdown",
   "id": "1a1e5a15",
   "metadata": {},
   "source": [
    "$$\n",
    "\\bar x = \\frac {\\sum_{i=0}^{N}(x_{i})}{N}\n",
    "$$"
   ]
  },
  {
   "cell_type": "code",
   "execution_count": null,
   "id": "0b948c34",
   "metadata": {},
   "outputs": [],
   "source": []
  },
  {
   "cell_type": "markdown",
   "id": "eb8a6bc7",
   "metadata": {},
   "source": [
    "$$\n",
    "\\sigma_{xy} = \\frac {\\sum_{i=0}^{N}(x_{i} - \\bar x)(y_{i} - \\bar y)}{N-1}\n",
    "$$"
   ]
  },
  {
   "cell_type": "code",
   "execution_count": 8,
   "id": "f189405b",
   "metadata": {},
   "outputs": [],
   "source": []
  },
  {
   "cell_type": "markdown",
   "id": "e5cc98c1",
   "metadata": {},
   "source": [
    "$$\n",
    "y = \\bar y + \\frac{\\sigma_{xy}}{\\sigma_{xx}}(x - \\bar x)\n",
    "$$"
   ]
  },
  {
   "cell_type": "code",
   "execution_count": 10,
   "id": "16ccaa48",
   "metadata": {},
   "outputs": [],
   "source": []
  },
  {
   "cell_type": "markdown",
   "id": "60d696f7",
   "metadata": {},
   "source": [
    "## Resultados"
   ]
  },
  {
   "cell_type": "markdown",
   "id": "1fcfebb5",
   "metadata": {},
   "source": [
    "### Funciones auxiliares, tamaños y repeticiones"
   ]
  },
  {
   "cell_type": "code",
   "execution_count": 21,
   "id": "4d5558b6",
   "metadata": {},
   "outputs": [],
   "source": []
  },
  {
   "cell_type": "markdown",
   "id": "8bcee2aa",
   "metadata": {},
   "source": [
    "### Tiempo de ejecución"
   ]
  },
  {
   "cell_type": "code",
   "execution_count": 24,
   "id": "b10db766",
   "metadata": {},
   "outputs": [],
   "source": []
  },
  {
   "cell_type": "markdown",
   "id": "3e0c6456",
   "metadata": {},
   "source": [
    "#### Gráficos de Tiempo de Ejecución de Python, C, ASM y SIMD"
   ]
  },
  {
   "cell_type": "code",
   "execution_count": null,
   "id": "ecdd8ca8",
   "metadata": {
    "scrolled": true
   },
   "outputs": [],
   "source": []
  },
  {
   "cell_type": "markdown",
   "id": "1f930c3d",
   "metadata": {},
   "source": [
    "#### Gráfico de Tiempo de Ejecución de C, ASM y SIMD"
   ]
  },
  {
   "cell_type": "code",
   "execution_count": null,
   "id": "009c36be",
   "metadata": {
    "scrolled": false
   },
   "outputs": [],
   "source": []
  },
  {
   "cell_type": "markdown",
   "id": "ef2c626b",
   "metadata": {},
   "source": [
    "### Speedup"
   ]
  },
  {
   "cell_type": "markdown",
   "id": "451c49bf",
   "metadata": {},
   "source": [
    "#### Speedup de C, ASM y SIMD respecto de Python"
   ]
  },
  {
   "cell_type": "code",
   "execution_count": null,
   "id": "b6b05a19",
   "metadata": {
    "scrolled": true
   },
   "outputs": [],
   "source": []
  },
  {
   "cell_type": "markdown",
   "id": "2363343b",
   "metadata": {},
   "source": [
    "#### Speedup de SIMD respecto de C y ASM"
   ]
  },
  {
   "cell_type": "code",
   "execution_count": null,
   "id": "a43fbda1",
   "metadata": {
    "scrolled": true
   },
   "outputs": [],
   "source": []
  },
  {
   "cell_type": "markdown",
   "id": "538f99a7",
   "metadata": {},
   "source": [
    "### Error relativo"
   ]
  },
  {
   "cell_type": "code",
   "execution_count": 29,
   "id": "3bbb8c1c",
   "metadata": {},
   "outputs": [],
   "source": []
  },
  {
   "cell_type": "markdown",
   "id": "ac0cd254",
   "metadata": {},
   "source": [
    "### Gráfica de las rectas estimadas y la referencia en el mayor tamaño"
   ]
  },
  {
   "cell_type": "code",
   "execution_count": null,
   "id": "fc69a2f4",
   "metadata": {},
   "outputs": [],
   "source": []
  },
  {
   "cell_type": "code",
   "execution_count": 32,
   "id": "7085ba8a",
   "metadata": {},
   "outputs": [],
   "source": [
    "! rm stats.c\n",
    "! rm stats.o\n",
    "! rm stats.so\n",
    "! rm meanSIMD.asm\n",
    "! rm meanSIMD.o\n",
    "! rm covarianceSIMD.asm\n",
    "! rm covarianceSIMD.o\n",
    "! rm linregSIMD.asm\n",
    "! rm linregSIMD.o"
   ]
  }
 ],
 "metadata": {
  "kernelspec": {
   "display_name": "Python 3 (ipykernel)",
   "language": "python",
   "name": "python3"
  },
  "language_info": {
   "codemirror_mode": {
    "name": "ipython",
    "version": 3
   },
   "file_extension": ".py",
   "mimetype": "text/x-python",
   "name": "python",
   "nbconvert_exporter": "python",
   "pygments_lexer": "ipython3",
   "version": "3.8.10"
  }
 },
 "nbformat": 4,
 "nbformat_minor": 5
}
